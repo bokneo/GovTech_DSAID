{
 "metadata": {
  "language_info": {
   "codemirror_mode": {
    "name": "ipython",
    "version": 3
   },
   "file_extension": ".py",
   "mimetype": "text/x-python",
   "name": "python",
   "nbconvert_exporter": "python",
   "pygments_lexer": "ipython3",
   "version": "3.8.5"
  },
  "orig_nbformat": 2,
  "kernelspec": {
   "name": "python385jvsc74a57bd0f35107c8ec03cf6c3a693c2aa4a2b02be54b7cfce77ba5f0be46ab9ecafb968d",
   "display_name": "Python 3.8.5 64-bit ('test_env': conda)"
  }
 },
 "nbformat": 4,
 "nbformat_minor": 2,
 "cells": [
  {
   "cell_type": "code",
   "execution_count": 1,
   "metadata": {},
   "outputs": [],
   "source": [
    "import matplotlib.pyplot as plt\n",
    "import pandas as pd\n",
    "import requests"
   ]
  },
  {
   "cell_type": "code",
   "execution_count": 2,
   "metadata": {},
   "outputs": [],
   "source": [
    "URL = \"https://api.covid19api.com/total/country/singapore/status/confirmed\"\n",
    "params = {}"
   ]
  },
  {
   "cell_type": "code",
   "execution_count": 3,
   "metadata": {},
   "outputs": [
    {
     "output_type": "execute_result",
     "data": {
      "text/plain": [
       "     Country CountryCode Province City CityCode  Lat  Lon  Cases     Status  \\\n",
       "0  Singapore                                       0    0      0  confirmed   \n",
       "1  Singapore                                       0    0      1  confirmed   \n",
       "2  Singapore                                       0    0      3  confirmed   \n",
       "3  Singapore                                       0    0      3  confirmed   \n",
       "4  Singapore                                       0    0      4  confirmed   \n",
       "\n",
       "                       Date  \n",
       "0 2020-01-22 00:00:00+00:00  \n",
       "1 2020-01-23 00:00:00+00:00  \n",
       "2 2020-01-24 00:00:00+00:00  \n",
       "3 2020-01-25 00:00:00+00:00  \n",
       "4 2020-01-26 00:00:00+00:00  "
      ],
      "text/html": "<div>\n<style scoped>\n    .dataframe tbody tr th:only-of-type {\n        vertical-align: middle;\n    }\n\n    .dataframe tbody tr th {\n        vertical-align: top;\n    }\n\n    .dataframe thead th {\n        text-align: right;\n    }\n</style>\n<table border=\"1\" class=\"dataframe\">\n  <thead>\n    <tr style=\"text-align: right;\">\n      <th></th>\n      <th>Country</th>\n      <th>CountryCode</th>\n      <th>Province</th>\n      <th>City</th>\n      <th>CityCode</th>\n      <th>Lat</th>\n      <th>Lon</th>\n      <th>Cases</th>\n      <th>Status</th>\n      <th>Date</th>\n    </tr>\n  </thead>\n  <tbody>\n    <tr>\n      <th>0</th>\n      <td>Singapore</td>\n      <td></td>\n      <td></td>\n      <td></td>\n      <td></td>\n      <td>0</td>\n      <td>0</td>\n      <td>0</td>\n      <td>confirmed</td>\n      <td>2020-01-22 00:00:00+00:00</td>\n    </tr>\n    <tr>\n      <th>1</th>\n      <td>Singapore</td>\n      <td></td>\n      <td></td>\n      <td></td>\n      <td></td>\n      <td>0</td>\n      <td>0</td>\n      <td>1</td>\n      <td>confirmed</td>\n      <td>2020-01-23 00:00:00+00:00</td>\n    </tr>\n    <tr>\n      <th>2</th>\n      <td>Singapore</td>\n      <td></td>\n      <td></td>\n      <td></td>\n      <td></td>\n      <td>0</td>\n      <td>0</td>\n      <td>3</td>\n      <td>confirmed</td>\n      <td>2020-01-24 00:00:00+00:00</td>\n    </tr>\n    <tr>\n      <th>3</th>\n      <td>Singapore</td>\n      <td></td>\n      <td></td>\n      <td></td>\n      <td></td>\n      <td>0</td>\n      <td>0</td>\n      <td>3</td>\n      <td>confirmed</td>\n      <td>2020-01-25 00:00:00+00:00</td>\n    </tr>\n    <tr>\n      <th>4</th>\n      <td>Singapore</td>\n      <td></td>\n      <td></td>\n      <td></td>\n      <td></td>\n      <td>0</td>\n      <td>0</td>\n      <td>4</td>\n      <td>confirmed</td>\n      <td>2020-01-26 00:00:00+00:00</td>\n    </tr>\n  </tbody>\n</table>\n</div>"
     },
     "metadata": {},
     "execution_count": 3
    }
   ],
   "source": [
    "response = requests.get(URL)\n",
    "df= pd.read_json(response.text)\n",
    "df.head()"
   ]
  },
  {
   "cell_type": "code",
   "execution_count": null,
   "metadata": {},
   "outputs": [],
   "source": []
  }
 ]
}